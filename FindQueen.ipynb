{
  "nbformat": 4,
  "nbformat_minor": 0,
  "metadata": {
    "colab": {
      "name": "FindQueen.ipynb",
      "version": "0.3.2",
      "provenance": [],
      "collapsed_sections": [],
      "include_colab_link": true
    },
    "kernelspec": {
      "name": "python3",
      "display_name": "Python 3"
    }
  },
  "cells": [
    {
      "cell_type": "markdown",
      "metadata": {
        "id": "view-in-github",
        "colab_type": "text"
      },
      "source": [
        "<a href=\"https://colab.research.google.com/github/pmoskovi/google-colab/blob/master/FindQueen.ipynb\" target=\"_parent\"><img src=\"https://colab.research.google.com/assets/colab-badge.svg\" alt=\"Open In Colab\"/></a>"
      ]
    },
    {
      "metadata": {
        "id": "BfwfX7OBPRVW",
        "colab_type": "text"
      },
      "cell_type": "markdown",
      "source": [
        "# Uploading files from the local file system\n",
        "\n",
        "This script allows you to select and upload files from your local file system. This is what I use to upload my training files."
      ]
    },
    {
      "metadata": {
        "id": "rhewQSEaffpx",
        "colab_type": "code",
        "colab": {}
      },
      "cell_type": "code",
      "source": [
        "!rm train/*\n",
        "!rm test/*"
      ],
      "execution_count": 0,
      "outputs": []
    },
    {
      "metadata": {
        "id": "rnxcT6bIOoev",
        "colab_type": "code",
        "colab": {}
      },
      "cell_type": "code",
      "source": [
        "from google.colab import files\n",
        "\n",
        "uploaded = files.upload()\n",
        "\n",
        "for fn in uploaded.keys():\n",
        "  print('User uploaded file \"{name}\" with length {length} bytes'.format(\n",
        "      name=fn, length=len(uploaded[fn])))"
      ],
      "execution_count": 0,
      "outputs": []
    },
    {
      "metadata": {
        "id": "WpOGbHdRWZjs",
        "colab_type": "code",
        "colab": {}
      },
      "cell_type": "code",
      "source": [
        "!mkdir train\n",
        "!mkdir test\n",
        "!mv im-0*.jpg train\n",
        "!mv im-5*.jpg train\n",
        "!mv im-1*.jpg test\n",
        "!mv im-6*.jpg test"
      ],
      "execution_count": 0,
      "outputs": []
    },
    {
      "metadata": {
        "id": "QICrI1vTWwAA",
        "colab_type": "code",
        "colab": {}
      },
      "cell_type": "code",
      "source": [
        "!ls -la train"
      ],
      "execution_count": 0,
      "outputs": []
    },
    {
      "metadata": {
        "id": "E3szYFt4N5-E",
        "colab_type": "code",
        "colab": {}
      },
      "cell_type": "code",
      "source": [
        "import os\n",
        "import numpy as np\n",
        "import tensorflow as tf\n",
        "from matplotlib import pyplot as plt\n",
        "%matplotlib inline\n",
        "import pickle"
      ],
      "execution_count": 0,
      "outputs": []
    },
    {
      "metadata": {
        "id": "n0r_INL6QF5n",
        "colab_type": "code",
        "colab": {}
      },
      "cell_type": "code",
      "source": [
        "TRAIN_DIR = 'train/'\n",
        "TEST_DIR = 'test/'"
      ],
      "execution_count": 0,
      "outputs": []
    },
    {
      "metadata": {
        "id": "Q0nzj_oqXNwL",
        "colab_type": "code",
        "colab": {}
      },
      "cell_type": "code",
      "source": [
        "train_image_file_names = [TRAIN_DIR+i for i in os.listdir(TRAIN_DIR)][0:100] \n",
        "test_image_file_names = [TEST_DIR+i for i in os.listdir(TEST_DIR)][0:100]"
      ],
      "execution_count": 0,
      "outputs": []
    },
    {
      "metadata": {
        "id": "Y2I6YHb8Xlak",
        "colab_type": "code",
        "colab": {}
      },
      "cell_type": "code",
      "source": [
        "train_image_file_names"
      ],
      "execution_count": 0,
      "outputs": []
    },
    {
      "metadata": {
        "id": "pKwOpvfuYC9v",
        "colab_type": "code",
        "colab": {
          "base_uri": "https://localhost:8080/",
          "height": 34
        },
        "outputId": "d53f9600-49fa-4ef1-9d0e-141435e6670b"
      },
      "cell_type": "code",
      "source": [
        "test_image_file_names"
      ],
      "execution_count": 89,
      "outputs": [
        {
          "output_type": "execute_result",
          "data": {
            "text/plain": [
              "['test/im-60.jpg', 'test/im-10.jpg', 'test/im-11.jpg']"
            ]
          },
          "metadata": {
            "tags": []
          },
          "execution_count": 89
        }
      ]
    },
    {
      "metadata": {
        "id": "AFiKHFclYNmi",
        "colab_type": "code",
        "colab": {}
      },
      "cell_type": "code",
      "source": [
        "# Slow, yet simple implementation with tensorflow\n",
        "# could be rewritten to be much faster\n",
        "# (which is not really needed as it takes less than 5 minutes on my laptop)\n",
        "def decode_image(image_file_names, resize_func=None):\n",
        "    \n",
        "    images = []\n",
        "    \n",
        "    graph = tf.Graph()\n",
        "    with graph.as_default():\n",
        "        file_name = tf.placeholder(dtype=tf.string)\n",
        "        file = tf.read_file(file_name)\n",
        "        image = tf.image.decode_jpeg(file)\n",
        "        if resize_func != None:\n",
        "            image = resize_func(image)\n",
        "    \n",
        "    with tf.Session(graph=graph) as session:\n",
        "        tf.initialize_all_variables().run()   \n",
        "        for i in range(len(image_file_names)):\n",
        "            images.append(session.run(image, feed_dict={file_name: image_file_names[i]}))\n",
        "            if (i+1) % 1000 == 0:\n",
        "                print('Images processed: ',i+1)\n",
        "        \n",
        "        session.close()\n",
        "    \n",
        "    return images"
      ],
      "execution_count": 0,
      "outputs": []
    },
    {
      "metadata": {
        "id": "iz4zRjtDYVwz",
        "colab_type": "code",
        "colab": {}
      },
      "cell_type": "code",
      "source": [
        "train_images = decode_image(train_image_file_names)\n",
        "test_images = decode_image(test_image_file_names)\n",
        "all_images = train_images + test_images"
      ],
      "execution_count": 0,
      "outputs": []
    },
    {
      "metadata": {
        "id": "d-8qkMaXYodR",
        "colab_type": "code",
        "colab": {}
      },
      "cell_type": "code",
      "source": [
        "# Check mean aspect ratio (width/height), mean width and mean height\n",
        "width = []\n",
        "height = []\n",
        "aspect_ratio = []\n",
        "for image in all_images:\n",
        "    h, w, d = np.shape(image)\n",
        "    aspect_ratio.append(float(w) / float(h))\n",
        "    width.append(w)\n",
        "    height.append(h)"
      ],
      "execution_count": 0,
      "outputs": []
    },
    {
      "metadata": {
        "id": "amRw90_LZScO",
        "colab_type": "code",
        "colab": {
          "base_uri": "https://localhost:8080/",
          "height": 283
        },
        "outputId": "b0bfdcf7-de09-4268-8c00-491adc87a9e1"
      },
      "cell_type": "code",
      "source": [
        "print('Mean aspect ratio: ',np.mean(aspect_ratio))\n",
        "plt.plot(aspect_ratio)\n",
        "plt.show()"
      ],
      "execution_count": 93,
      "outputs": [
        {
          "output_type": "stream",
          "text": [
            "Mean aspect ratio:  1.0092055915444937\n"
          ],
          "name": "stdout"
        },
        {
          "output_type": "display_data",
          "data": {
            "image/png": "[encoded data removed]",
            "text/plain": [
              "<matplotlib.figure.Figure at 0x7f9513030b00>"
            ]
          },
          "metadata": {
            "tags": []
          }
        }
      ]
    },
    {
      "metadata": {
        "id": "qqFXTWB8Za7u",
        "colab_type": "code",
        "colab": {
          "base_uri": "https://localhost:8080/",
          "height": 299
        },
        "outputId": "a41fc7c1-64d9-40b6-81c2-db4843795298"
      },
      "cell_type": "code",
      "source": [
        "print('Mean width:',np.mean(width))\n",
        "print('Mean height:',np.mean(height))\n",
        "plt.plot(width, height, '.r')\n",
        "plt.show()"
      ],
      "execution_count": 94,
      "outputs": [
        {
          "output_type": "stream",
          "text": [
            "Mean width: 500.0\n",
            "Mean height: 496.14285714285717\n"
          ],
          "name": "stdout"
        },
        {
          "output_type": "display_data",
          "data": {
            "image/png": "[encoded data removed]",
            "text/plain": [
              "<matplotlib.figure.Figure at 0x7f951300a898>"
            ]
          },
          "metadata": {
            "tags": []
          }
        }
      ]
    },
    {
      "metadata": {
        "id": "3UgKyrRLZu2d",
        "colab_type": "code",
        "colab": {}
      },
      "cell_type": "code",
      "source": [
        "WIDTH=500\n",
        "HEIGHT=500\n",
        "resize_func = lambda image: tf.image.resize_image_with_crop_or_pad(image, HEIGHT, WIDTH)"
      ],
      "execution_count": 0,
      "outputs": []
    },
    {
      "metadata": {
        "id": "iBicyLIZZyvD",
        "colab_type": "code",
        "colab": {}
      },
      "cell_type": "code",
      "source": [
        "processed_train_images = decode_image(train_image_file_names, resize_func=resize_func)\n",
        "processed_test_images = decode_image(test_image_file_names, resize_func=resize_func)"
      ],
      "execution_count": 0,
      "outputs": []
    },
    {
      "metadata": {
        "id": "VIma4BONZ19l",
        "colab_type": "code",
        "colab": {}
      },
      "cell_type": "code",
      "source": [
        "# Let's check how the images look like\n",
        "for i in range(3):\n",
        "    plt.imshow(processed_train_images[i])\n",
        "    plt.show()"
      ],
      "execution_count": 0,
      "outputs": []
    },
    {
      "metadata": {
        "id": "4NMB691bgx0g",
        "colab_type": "code",
        "colab": {}
      },
      "cell_type": "code",
      "source": [
        "processed_train_images[1]\n",
        "                     "
      ],
      "execution_count": 0,
      "outputs": []
    }
  ]
}