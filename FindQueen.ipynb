{
  "nbformat": 4,
  "nbformat_minor": 0,
  "metadata": {
    "colab": {
      "name": "FindQueen.ipynb",
      "version": "0.3.2",
      "provenance": [],
      "include_colab_link": true
    },
    "kernelspec": {
      "name": "python3",
      "display_name": "Python 3"
    }
  },
  "cells": [
    {
      "cell_type": "markdown",
      "metadata": {
        "id": "view-in-github",
        "colab_type": "text"
      },
      "source": [
        "<a href=\"https://colab.research.google.com/github/pmoskovi/google-colab/blob/master/FindQueen.ipynb\" target=\"_parent\"><img src=\"https://colab.research.google.com/assets/colab-badge.svg\" alt=\"Open In Colab\"/></a>"
      ]
    },
    {
      "metadata": {
        "id": "BfwfX7OBPRVW",
        "colab_type": "text"
      },
      "cell_type": "markdown",
      "source": [
        "# Uploading files from the local file system\n",
        "\n",
        "This script allows you to select and upload files from your local file system. This is what I use to upload my training files."
      ]
    },
    {
      "metadata": {
        "id": "rnxcT6bIOoev",
        "colab_type": "code",
        "colab": {}
      },
      "cell_type": "code",
      "source": [
        "from google.colab import files\n",
        "\n",
        "uploaded = files.upload()\n",
        "\n",
        "for fn in uploaded.keys():\n",
        "  print('User uploaded file \"{name}\" with length {length} bytes'.format(\n",
        "      name=fn, length=len(uploaded[fn])))"
      ],
      "execution_count": 0,
      "outputs": []
    },
    {
      "metadata": {
        "id": "E3szYFt4N5-E",
        "colab_type": "code",
        "colab": {}
      },
      "cell_type": "code",
      "source": [
        "import tensorflow as tf\n",
        "\n",
        "\n",
        "# step 1\n",
        "filenames = tf.constant(['im-01.jpg', 'im-02.jpg', 'im-03.jpg', 'im-04.jpg', 'im-05.jpg', 'im-06.jpg', 'im-07.jpg', 'im-08.jpg', 'im-09.jpg', 'im-10.jpg', 'im-11.jpg', \n",
        "                         'im-51.jpg', 'im-52.jpg', 'im-53.jpg', 'im-54.jpg', 'im-55.jpg', 'im-56.jpg', 'im-57.jpg', 'im-58.jpg', 'im-59.jpg', 'im-60.jpg' ])\n",
        "labels = tf.constant(\n",
        "[1, 1, 1, 1, 1, 1, 1, 1, 1, 1, 1,\n",
        "0,0,0,0,0,0,0,0,0,0])\n",
        "\n",
        "# step 2: create a dataset returning slices of `filenames`\n",
        "dataset = tf.data.Dataset.from_tensor_slices((filenames, labels))\n",
        "\n",
        "# step 3: parse every image in the dataset using `map`\n",
        "def _parse_function(filename, label):\n",
        "    image_string = tf.read_file(filename)\n",
        "    image_decoded = tf.image.decode_jpeg(image_string, channels=3)\n",
        "    image = tf.cast(image_decoded, tf.float32)\n",
        "    return image, label\n",
        "\n",
        "dataset = dataset.map(_parse_function)\n",
        "dataset = dataset.batch(2)\n",
        "\n",
        "# step 4: create iterator and final input tensor\n",
        "iterator = dataset.make_one_shot_iterator()\n",
        "images, labels = iterator.get_next()\n"
      ],
      "execution_count": 0,
      "outputs": []
    }
  ]
}